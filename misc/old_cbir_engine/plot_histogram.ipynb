{
 "cells": [
  {
   "cell_type": "markdown",
   "metadata": {},
   "source": [
    "# Affichage d'histogrammes 3D à partir d'images"
   ]
  },
  {
   "cell_type": "markdown",
   "metadata": {},
   "source": [
    "Vous pouvez modifier ci-dessous l'image dont l'histogramme en HSV sera affiché."
   ]
  },
  {
   "cell_type": "code",
   "execution_count": null,
   "metadata": {},
   "outputs": [],
   "source": [
    "url = \"https://danbooru.donmai.us/data/__hatsune_miku_and_sakura_miku_vocaloid_drawn_by_ume_neko_otaku_nyanko__26c82358db3faf78456a9e5b1f96c22e.jpg\""
   ]
  },
  {
   "cell_type": "markdown",
   "metadata": {},
   "source": [
    "Ne pas modifier le code ci-dessous, seulement l'exécuter."
   ]
  },
  {
   "cell_type": "code",
   "execution_count": null,
   "metadata": {},
   "outputs": [],
   "source": [
    "# Affichage dynamique dans Jupyter\n",
    "%matplotlib notebook\n",
    "\n",
    "# Réduire la taille pour ne pas que le plot dépasse du Notebook\n",
    "import matplotlib as mpl\n",
    "mpl.rcParams['figure.dpi'] = 61\n",
    "\n",
    "# Importer notre fonction\n",
    "from plot_histogram import plot_histogram\n",
    "\n",
    "# Utiliser notre fonction\n",
    "plot_histogram( url )"
   ]
  }
 ],
 "metadata": {
  "kernelspec": {
   "display_name": "Python 3",
   "language": "python",
   "name": "python3"
  },
  "language_info": {
   "codemirror_mode": {
    "name": "ipython",
    "version": 3
   },
   "file_extension": ".py",
   "mimetype": "text/x-python",
   "name": "python",
   "nbconvert_exporter": "python",
   "pygments_lexer": "ipython3",
   "version": "3.8.4"
  }
 },
 "nbformat": 4,
 "nbformat_minor": 4
}
